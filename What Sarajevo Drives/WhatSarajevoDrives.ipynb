{
 "cells": [
  {
   "cell_type": "code",
   "execution_count": 1,
   "metadata": {},
   "outputs": [],
   "source": [
    "from selenium import webdriver\n",
    "import pandas as pd"
   ]
  },
  {
   "cell_type": "code",
   "execution_count": 2,
   "metadata": {},
   "outputs": [],
   "source": [
    "driver = webdriver.Chrome()"
   ]
  },
  {
   "cell_type": "code",
   "execution_count": 3,
   "metadata": {},
   "outputs": [],
   "source": [
    "def get_data(url):\n",
    "    driver.get(url)\n",
    "    \n",
    "    array = []\n",
    "    \n",
    "    for i in range(5):\n",
    "        new_url = url[0:57] + str(i+1) + url[58:]\n",
    "        driver.get(new_url)\n",
    "        elements = driver.find_elements_by_xpath(\"//span[@class='desnopolje']\")\n",
    "        \n",
    "        for element in elements:\n",
    "            if element.text[0] == 'D' or element.text[0] == 'B' or element.text[0] == 'P':\n",
    "                array.append(element.text)\n",
    "            i+=1\n",
    "    return pd.Series(array)"
   ]
  },
  {
   "cell_type": "markdown",
   "metadata": {},
   "source": [
    "### Get all cars from Hadzici"
   ]
  },
  {
   "cell_type": "code",
   "execution_count": 4,
   "metadata": {},
   "outputs": [],
   "source": [
    "hadzici = get_data(\"https://www.olx.ba/pretraga?id=18&kategorija=18&stranica=1&stanje=0&vrstapregleda=tabela&sort_order=desc&kanton=9&grad%5B%5D=3817\")"
   ]
  },
  {
   "cell_type": "code",
   "execution_count": 5,
   "metadata": {},
   "outputs": [
    {
     "data": {
      "text/plain": [
       "pandas.core.series.Series"
      ]
     },
     "execution_count": 5,
     "metadata": {},
     "output_type": "execute_result"
    }
   ],
   "source": [
    "type(hadzici)"
   ]
  },
  {
   "cell_type": "markdown",
   "metadata": {},
   "source": [
    "### Get all cars from Ilidza"
   ]
  },
  {
   "cell_type": "code",
   "execution_count": 6,
   "metadata": {},
   "outputs": [],
   "source": [
    "ilidza = get_data(\"https://www.olx.ba/pretraga?id=18&kategorija=18&stranica=1&stanje=0&vrstapregleda=tabela&sort_order=desc&kanton=9&grad%5B%5D=3879\")"
   ]
  },
  {
   "cell_type": "code",
   "execution_count": 7,
   "metadata": {},
   "outputs": [
    {
     "data": {
      "text/plain": [
       "150"
      ]
     },
     "execution_count": 7,
     "metadata": {},
     "output_type": "execute_result"
    }
   ],
   "source": [
    "len(ilidza)"
   ]
  },
  {
   "cell_type": "markdown",
   "metadata": {},
   "source": [
    "### Get all cars from Ilijas"
   ]
  },
  {
   "cell_type": "code",
   "execution_count": 8,
   "metadata": {},
   "outputs": [],
   "source": [
    "ilijas = get_data(\"https://www.olx.ba/pretraga?id=18&kategorija=18&stranica=1&stanje=0&vrstapregleda=tabela&sort_order=desc&kanton=9&grad%5B%5D=3892\")"
   ]
  },
  {
   "cell_type": "code",
   "execution_count": 9,
   "metadata": {},
   "outputs": [
    {
     "data": {
      "text/plain": [
       "150"
      ]
     },
     "execution_count": 9,
     "metadata": {},
     "output_type": "execute_result"
    }
   ],
   "source": [
    "len(ilijas)"
   ]
  },
  {
   "cell_type": "markdown",
   "metadata": {},
   "source": [
    "### Get all cars from Sarajevo - Centar"
   ]
  },
  {
   "cell_type": "code",
   "execution_count": 10,
   "metadata": {},
   "outputs": [],
   "source": [
    "sarajevo_centar = get_data(\"https://www.olx.ba/pretraga?id=18&kategorija=18&stranica=1&stanje=0&vrstapregleda=tabela&sort_order=desc&kanton=9&grad%5B%5D=3812\")"
   ]
  },
  {
   "cell_type": "code",
   "execution_count": 11,
   "metadata": {},
   "outputs": [
    {
     "data": {
      "text/plain": [
       "147"
      ]
     },
     "execution_count": 11,
     "metadata": {},
     "output_type": "execute_result"
    }
   ],
   "source": [
    "len(sarajevo_centar)"
   ]
  },
  {
   "cell_type": "markdown",
   "metadata": {},
   "source": [
    "### Get all cars from Sarajevo - Novi Grad"
   ]
  },
  {
   "cell_type": "code",
   "execution_count": 12,
   "metadata": {},
   "outputs": [],
   "source": [
    "sarajevo_novi_grad = get_data(\"https://www.olx.ba/pretraga?id=18&kategorija=18&stranica=1&stanje=0&vrstapregleda=tabela&sort_order=desc&kanton=9&grad%5B%5D=3969\")"
   ]
  },
  {
   "cell_type": "code",
   "execution_count": 13,
   "metadata": {},
   "outputs": [
    {
     "data": {
      "text/plain": [
       "150"
      ]
     },
     "execution_count": 13,
     "metadata": {},
     "output_type": "execute_result"
    }
   ],
   "source": [
    "len(sarajevo_novi_grad)"
   ]
  },
  {
   "cell_type": "markdown",
   "metadata": {},
   "source": [
    "### Get all cars from Sarajevo - Novo Sarajevo\n"
   ]
  },
  {
   "cell_type": "code",
   "execution_count": 14,
   "metadata": {},
   "outputs": [],
   "source": [
    "novo_sarajevo = get_data(\"https://www.olx.ba/pretraga?id=18&kategorija=18&stranica=1&stanje=0&vrstapregleda=tabela&sort_order=desc&kanton=9&grad%5B%5D=5896\")"
   ]
  },
  {
   "cell_type": "code",
   "execution_count": 15,
   "metadata": {
    "scrolled": true
   },
   "outputs": [
    {
     "data": {
      "text/plain": [
       "149"
      ]
     },
     "execution_count": 15,
     "metadata": {},
     "output_type": "execute_result"
    }
   ],
   "source": [
    "len(novo_sarajevo)"
   ]
  },
  {
   "cell_type": "markdown",
   "metadata": {},
   "source": [
    "### Get all cars from Sarajevo - Stari Grad\n"
   ]
  },
  {
   "cell_type": "code",
   "execution_count": 16,
   "metadata": {},
   "outputs": [],
   "source": [
    "stari_grad = get_data(\"https://www.olx.ba/pretraga?id=18&kategorija=18&stranica=1&stanje=0&vrstapregleda=tabela&sort_order=desc&kanton=9&grad%5B%5D=4048\")"
   ]
  },
  {
   "cell_type": "code",
   "execution_count": 17,
   "metadata": {},
   "outputs": [
    {
     "data": {
      "text/plain": [
       "147"
      ]
     },
     "execution_count": 17,
     "metadata": {},
     "output_type": "execute_result"
    }
   ],
   "source": [
    "len(stari_grad)"
   ]
  },
  {
   "cell_type": "code",
   "execution_count": 28,
   "metadata": {},
   "outputs": [],
   "source": [
    "dataset = pd.DataFrame({\n",
    "    \"Hadzici\":hadzici, \n",
    "    \"Ilidza\":ilidza, \n",
    "    \"Ilijas\":ilijas, \n",
    "    \"Sarajevo - Centar\": sarajevo_centar,\n",
    "    \"Sarajevo - Novi Grad\": sarajevo_novi_grad, \n",
    "    \"Sarajevo - Novo Sarajevo\": novo_sarajevo,\n",
    "    \"Sarajevo - Stari Grad\": stari_grad\n",
    "})"
   ]
  },
  {
   "cell_type": "code",
   "execution_count": 29,
   "metadata": {},
   "outputs": [
    {
     "data": {
      "text/html": [
       "<div>\n",
       "<style scoped>\n",
       "    .dataframe tbody tr th:only-of-type {\n",
       "        vertical-align: middle;\n",
       "    }\n",
       "\n",
       "    .dataframe tbody tr th {\n",
       "        vertical-align: top;\n",
       "    }\n",
       "\n",
       "    .dataframe thead th {\n",
       "        text-align: right;\n",
       "    }\n",
       "</style>\n",
       "<table border=\"1\" class=\"dataframe\">\n",
       "  <thead>\n",
       "    <tr style=\"text-align: right;\">\n",
       "      <th></th>\n",
       "      <th>Hadzici</th>\n",
       "      <th>Ilidza</th>\n",
       "      <th>Ilijas</th>\n",
       "      <th>Sarajevo - Centar</th>\n",
       "      <th>Sarajevo - Novi Grad</th>\n",
       "      <th>Sarajevo - Novo Sarajevo</th>\n",
       "      <th>Sarajevo - Stari Grad</th>\n",
       "    </tr>\n",
       "  </thead>\n",
       "  <tbody>\n",
       "    <tr>\n",
       "      <th>0</th>\n",
       "      <td>Dizel</td>\n",
       "      <td>Dizel</td>\n",
       "      <td>Dizel</td>\n",
       "      <td>Benzin</td>\n",
       "      <td>Dizel</td>\n",
       "      <td>Benzin</td>\n",
       "      <td>Dizel</td>\n",
       "    </tr>\n",
       "    <tr>\n",
       "      <th>1</th>\n",
       "      <td>Dizel</td>\n",
       "      <td>Dizel</td>\n",
       "      <td>Dizel</td>\n",
       "      <td>Dizel</td>\n",
       "      <td>Benzin</td>\n",
       "      <td>Benzin</td>\n",
       "      <td>Dizel</td>\n",
       "    </tr>\n",
       "    <tr>\n",
       "      <th>2</th>\n",
       "      <td>Dizel</td>\n",
       "      <td>Dizel</td>\n",
       "      <td>Dizel</td>\n",
       "      <td>Dizel</td>\n",
       "      <td>Dizel</td>\n",
       "      <td>Dizel</td>\n",
       "      <td>Dizel</td>\n",
       "    </tr>\n",
       "    <tr>\n",
       "      <th>3</th>\n",
       "      <td>Dizel</td>\n",
       "      <td>Dizel</td>\n",
       "      <td>Benzin</td>\n",
       "      <td>Dizel</td>\n",
       "      <td>Dizel</td>\n",
       "      <td>Dizel</td>\n",
       "      <td>Plin</td>\n",
       "    </tr>\n",
       "    <tr>\n",
       "      <th>4</th>\n",
       "      <td>Dizel</td>\n",
       "      <td>Dizel</td>\n",
       "      <td>Dizel</td>\n",
       "      <td>Dizel</td>\n",
       "      <td>Dizel</td>\n",
       "      <td>Benzin</td>\n",
       "      <td>Dizel</td>\n",
       "    </tr>\n",
       "  </tbody>\n",
       "</table>\n",
       "</div>"
      ],
      "text/plain": [
       "  Hadzici Ilidza  Ilijas Sarajevo - Centar Sarajevo - Novi Grad  \\\n",
       "0   Dizel  Dizel   Dizel            Benzin                Dizel   \n",
       "1   Dizel  Dizel   Dizel             Dizel               Benzin   \n",
       "2   Dizel  Dizel   Dizel             Dizel                Dizel   \n",
       "3   Dizel  Dizel  Benzin             Dizel                Dizel   \n",
       "4   Dizel  Dizel   Dizel             Dizel                Dizel   \n",
       "\n",
       "  Sarajevo - Novo Sarajevo Sarajevo - Stari Grad  \n",
       "0                   Benzin                 Dizel  \n",
       "1                   Benzin                 Dizel  \n",
       "2                    Dizel                 Dizel  \n",
       "3                    Dizel                  Plin  \n",
       "4                   Benzin                 Dizel  "
      ]
     },
     "execution_count": 29,
     "metadata": {},
     "output_type": "execute_result"
    }
   ],
   "source": [
    "dataset.head()"
   ]
  },
  {
   "cell_type": "code",
   "execution_count": 30,
   "metadata": {},
   "outputs": [
    {
     "name": "stdout",
     "output_type": "stream",
     "text": [
      "<class 'pandas.core.frame.DataFrame'>\n",
      "RangeIndex: 150 entries, 0 to 149\n",
      "Data columns (total 7 columns):\n",
      "Hadzici                     149 non-null object\n",
      "Ilidza                      150 non-null object\n",
      "Ilijas                      150 non-null object\n",
      "Sarajevo - Centar           147 non-null object\n",
      "Sarajevo - Novi Grad        150 non-null object\n",
      "Sarajevo - Novo Sarajevo    149 non-null object\n",
      "Sarajevo - Stari Grad       147 non-null object\n",
      "dtypes: object(7)\n",
      "memory usage: 8.3+ KB\n"
     ]
    }
   ],
   "source": [
    "dataset.info()"
   ]
  },
  {
   "cell_type": "code",
   "execution_count": 21,
   "metadata": {
    "scrolled": true
   },
   "outputs": [
    {
     "data": {
      "text/plain": [
       "Index(['Hadzici', 'Ilidza', 'Ilijas', 'Sarajevo - Centar',\n",
       "       'Sarajevo - Novi Grad', 'Sarajevo - Novo Sarajevo',\n",
       "       'Sarajevo - Stari Grad'],\n",
       "      dtype='object')"
      ]
     },
     "execution_count": 21,
     "metadata": {},
     "output_type": "execute_result"
    }
   ],
   "source": [
    "dataset.columns"
   ]
  },
  {
   "cell_type": "code",
   "execution_count": 22,
   "metadata": {
    "scrolled": false
   },
   "outputs": [
    {
     "data": {
      "text/plain": [
       "Hadzici                     0\n",
       "Ilidza                      0\n",
       "Ilijas                      0\n",
       "Sarajevo - Centar           0\n",
       "Sarajevo - Novi Grad        0\n",
       "Sarajevo - Novo Sarajevo    0\n",
       "Sarajevo - Stari Grad       0\n",
       "dtype: int64"
      ]
     },
     "execution_count": 22,
     "metadata": {},
     "output_type": "execute_result"
    }
   ],
   "source": [
    "dataset.dropna(inplace = True)\n",
    "dataset.isnull().sum()"
   ]
  },
  {
   "cell_type": "code",
   "execution_count": 52,
   "metadata": {},
   "outputs": [
    {
     "name": "stdout",
     "output_type": "stream",
     "text": [
      "<class 'pandas.core.frame.DataFrame'>\n",
      "RangeIndex: 150 entries, 0 to 149\n",
      "Data columns (total 7 columns):\n",
      "Hadzici                     149 non-null object\n",
      "Ilidza                      150 non-null object\n",
      "Ilijas                      150 non-null object\n",
      "Sarajevo - Centar           147 non-null object\n",
      "Sarajevo - Novi Grad        150 non-null object\n",
      "Sarajevo - Novo Sarajevo    149 non-null object\n",
      "Sarajevo - Stari Grad       147 non-null object\n",
      "dtypes: object(7)\n",
      "memory usage: 8.3+ KB\n"
     ]
    }
   ],
   "source": [
    "dataset.info()"
   ]
  },
  {
   "cell_type": "code",
   "execution_count": 43,
   "metadata": {},
   "outputs": [
    {
     "data": {
      "text/plain": [
       "Dizel     110\n",
       "Benzin     28\n",
       "Plin        9\n",
       "Name: Sarajevo - Stari Grad, dtype: int64"
      ]
     },
     "execution_count": 43,
     "metadata": {},
     "output_type": "execute_result"
    }
   ],
   "source": [
    "dataset[\"Sarajevo - Stari Grad\"].value_counts()"
   ]
  },
  {
   "cell_type": "code",
   "execution_count": 44,
   "metadata": {},
   "outputs": [],
   "source": [
    "df = pd.DataFrame({\n",
    "    \"Hadzici\":[116, 27, 6], \n",
    "    \"Ilidza\":[130, 19, 1], \n",
    "    \"Ilijas\":[118, 26, 6], \n",
    "    \"Sarajevo - Centar\": [108, 36, 3],\n",
    "    \"Sarajevo - Novi Grad\": [137, 13, 0], \n",
    "    \"Sarajevo - Novo Sarajevo\": [117, 27, 5],\n",
    "    \"Sarajevo - Stari Grad\": [110, 28, 9]\n",
    "})"
   ]
  },
  {
   "cell_type": "code",
   "execution_count": 50,
   "metadata": {
    "scrolled": true
   },
   "outputs": [],
   "source": [
    "df.head()\n",
    "df.index = [\"Dizel\", \"Benzin\", \"Plin\"]"
   ]
  },
  {
   "cell_type": "code",
   "execution_count": 59,
   "metadata": {},
   "outputs": [
    {
     "data": {
      "image/png": "[encoded data removed]",
      "text/plain": [
       "<Figure size 432x288 with 1 Axes>"
      ]
     },
     "metadata": {
      "needs_background": "light"
     },
     "output_type": "display_data"
    }
   ],
   "source": [
    "import matplotlib.pyplot as plt\n",
    "\n",
    "\n",
    "df.plot.bar(rot = 0, title = \"Sta Sarajevo vozi?\")\n",
    "plt.savefig('WhatSarajevoDrives.png')\n"
   ]
  }
 ],
 "metadata": {
  "kernelspec": {
   "display_name": "Python 3",
   "language": "python",
   "name": "python3"
  },
  "language_info": {
   "codemirror_mode": {
    "name": "ipython",
    "version": 3
   },
   "file_extension": ".py",
   "mimetype": "text/x-python",
   "name": "python",
   "nbconvert_exporter": "python",
   "pygments_lexer": "ipython3",
   "version": "3.7.4"
  }
 },
 "nbformat": 4,
 "nbformat_minor": 2
}
