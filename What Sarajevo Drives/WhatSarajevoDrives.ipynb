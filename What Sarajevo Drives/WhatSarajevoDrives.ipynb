{
 "cells": [
  {
   "cell_type": "code",
   "execution_count": 1,
   "metadata": {},
   "outputs": [],
   "source": [
    "from selenium import webdriver\n",
    "import pandas as pd"
   ]
  },
  {
   "cell_type": "code",
   "execution_count": 2,
   "metadata": {},
   "outputs": [],
   "source": [
    "driver = webdriver.Chrome()"
   ]
  },
  {
   "cell_type": "code",
   "execution_count": 3,
   "metadata": {},
   "outputs": [],
   "source": [
    "def get_data(url):\n",
    "    driver.get(url)\n",
    "    \n",
    "    array = []\n",
    "    \n",
    "    for i in range(5):\n",
    "        new_url = url[0:57] + str(i+1) + url[58:]\n",
    "        driver.get(new_url)\n",
    "        elements = driver.find_elements_by_xpath(\"//span[@class='desnopolje']\")\n",
    "        \n",
    "        for element in elements:\n",
    "            if element.text[0] == 'D' or element.text[0] == 'B' or element.text[0] == 'P':\n",
    "                array.append(element.text)\n",
    "            i+=1\n",
    "    return pd.Series(array)"
   ]
  },
  {
   "cell_type": "markdown",
   "metadata": {},
   "source": [
    "### Get all cars from Hadzici"
   ]
  },
  {
   "cell_type": "code",
   "execution_count": 4,
   "metadata": {},
   "outputs": [],
   "source": [
    "hadzici = get_data(\"https://www.olx.ba/pretraga?id=18&kategorija=18&stranica=1&stanje=0&vrstapregleda=tabela&sort_order=desc&kanton=9&grad%5B%5D=3817\")"
   ]
  },
  {
   "cell_type": "markdown",
   "metadata": {},
   "source": [
    "### Get all cars from Ilidza"
   ]
  },
  {
   "cell_type": "code",
   "execution_count": 5,
   "metadata": {},
   "outputs": [],
   "source": [
    "ilidza = get_data(\"https://www.olx.ba/pretraga?id=18&kategorija=18&stranica=1&stanje=0&vrstapregleda=tabela&sort_order=desc&kanton=9&grad%5B%5D=3879\")"
   ]
  },
  {
   "cell_type": "markdown",
   "metadata": {},
   "source": [
    "### Get all cars from Ilijas"
   ]
  },
  {
   "cell_type": "code",
   "execution_count": 6,
   "metadata": {},
   "outputs": [],
   "source": [
    "ilijas = get_data(\"https://www.olx.ba/pretraga?id=18&kategorija=18&stranica=1&stanje=0&vrstapregleda=tabela&sort_order=desc&kanton=9&grad%5B%5D=3892\")"
   ]
  },
  {
   "cell_type": "markdown",
   "metadata": {},
   "source": [
    "### Get all cars from Sarajevo - Centar"
   ]
  },
  {
   "cell_type": "code",
   "execution_count": 7,
   "metadata": {},
   "outputs": [],
   "source": [
    "sarajevo_centar = get_data(\"https://www.olx.ba/pretraga?id=18&kategorija=18&stranica=1&stanje=0&vrstapregleda=tabela&sort_order=desc&kanton=9&grad%5B%5D=3812\")"
   ]
  },
  {
   "cell_type": "markdown",
   "metadata": {},
   "source": [
    "### Get all cars from Sarajevo - Novi Grad"
   ]
  },
  {
   "cell_type": "code",
   "execution_count": 8,
   "metadata": {},
   "outputs": [],
   "source": [
    "sarajevo_novi_grad = get_data(\"https://www.olx.ba/pretraga?id=18&kategorija=18&stranica=1&stanje=0&vrstapregleda=tabela&sort_order=desc&kanton=9&grad%5B%5D=3969\")"
   ]
  },
  {
   "cell_type": "markdown",
   "metadata": {},
   "source": [
    "### Get all cars from Sarajevo - Novo Sarajevo\n"
   ]
  },
  {
   "cell_type": "code",
   "execution_count": 9,
   "metadata": {},
   "outputs": [],
   "source": [
    "novo_sarajevo = get_data(\"https://www.olx.ba/pretraga?id=18&kategorija=18&stranica=1&stanje=0&vrstapregleda=tabela&sort_order=desc&kanton=9&grad%5B%5D=5896\")"
   ]
  },
  {
   "cell_type": "markdown",
   "metadata": {},
   "source": [
    "### Get all cars from Sarajevo - Stari Grad\n"
   ]
  },
  {
   "cell_type": "code",
   "execution_count": 10,
   "metadata": {},
   "outputs": [],
   "source": [
    "stari_grad = get_data(\"https://www.olx.ba/pretraga?id=18&kategorija=18&stranica=1&stanje=0&vrstapregleda=tabela&sort_order=desc&kanton=9&grad%5B%5D=4048\")"
   ]
  },
  {
   "cell_type": "code",
   "execution_count": 11,
   "metadata": {},
   "outputs": [],
   "source": [
    "dataset = pd.DataFrame({\n",
    "    \"Hadzici\":hadzici, \n",
    "    \"Ilidza\":ilidza, \n",
    "    \"Ilijas\":ilijas, \n",
    "    \"Sarajevo - Centar\": sarajevo_centar,\n",
    "    \"Sarajevo - Novi Grad\": sarajevo_novi_grad, \n",
    "    \"Sarajevo - Novo Sarajevo\": novo_sarajevo,\n",
    "    \"Sarajevo - Stari Grad\": stari_grad\n",
    "})"
   ]
  },
  {
   "cell_type": "code",
   "execution_count": 12,
   "metadata": {},
   "outputs": [],
   "source": [
    "dataset.to_csv(\"data.csv\", index = False)"
   ]
  },
  {
   "cell_type": "code",
   "execution_count": 13,
   "metadata": {},
   "outputs": [
    {
     "data": {
      "text/html": [
       "<div>\n",
       "<style scoped>\n",
       "    .dataframe tbody tr th:only-of-type {\n",
       "        vertical-align: middle;\n",
       "    }\n",
       "\n",
       "    .dataframe tbody tr th {\n",
       "        vertical-align: top;\n",
       "    }\n",
       "\n",
       "    .dataframe thead th {\n",
       "        text-align: right;\n",
       "    }\n",
       "</style>\n",
       "<table border=\"1\" class=\"dataframe\">\n",
       "  <thead>\n",
       "    <tr style=\"text-align: right;\">\n",
       "      <th></th>\n",
       "      <th>Hadzici</th>\n",
       "      <th>Ilidza</th>\n",
       "      <th>Ilijas</th>\n",
       "      <th>Sarajevo - Centar</th>\n",
       "      <th>Sarajevo - Novi Grad</th>\n",
       "      <th>Sarajevo - Novo Sarajevo</th>\n",
       "      <th>Sarajevo - Stari Grad</th>\n",
       "    </tr>\n",
       "  </thead>\n",
       "  <tbody>\n",
       "    <tr>\n",
       "      <th>0</th>\n",
       "      <td>Dizel</td>\n",
       "      <td>Dizel</td>\n",
       "      <td>Dizel</td>\n",
       "      <td>Benzin</td>\n",
       "      <td>Benzin</td>\n",
       "      <td>Benzin</td>\n",
       "      <td>Dizel</td>\n",
       "    </tr>\n",
       "    <tr>\n",
       "      <th>1</th>\n",
       "      <td>Dizel</td>\n",
       "      <td>Dizel</td>\n",
       "      <td>Dizel</td>\n",
       "      <td>Dizel</td>\n",
       "      <td>Dizel</td>\n",
       "      <td>Dizel</td>\n",
       "      <td>Dizel</td>\n",
       "    </tr>\n",
       "    <tr>\n",
       "      <th>2</th>\n",
       "      <td>Dizel</td>\n",
       "      <td>Dizel</td>\n",
       "      <td>Benzin</td>\n",
       "      <td>Dizel</td>\n",
       "      <td>Benzin</td>\n",
       "      <td>Dizel</td>\n",
       "      <td>Plin</td>\n",
       "    </tr>\n",
       "    <tr>\n",
       "      <th>3</th>\n",
       "      <td>Dizel</td>\n",
       "      <td>Dizel</td>\n",
       "      <td>Dizel</td>\n",
       "      <td>Dizel</td>\n",
       "      <td>Benzin</td>\n",
       "      <td>Dizel</td>\n",
       "      <td>Dizel</td>\n",
       "    </tr>\n",
       "    <tr>\n",
       "      <th>4</th>\n",
       "      <td>Dizel</td>\n",
       "      <td>Dizel</td>\n",
       "      <td>Benzin</td>\n",
       "      <td>Dizel</td>\n",
       "      <td>Dizel</td>\n",
       "      <td>Dizel</td>\n",
       "      <td>Dizel</td>\n",
       "    </tr>\n",
       "  </tbody>\n",
       "</table>\n",
       "</div>"
      ],
      "text/plain": [
       "  Hadzici Ilidza  Ilijas Sarajevo - Centar Sarajevo - Novi Grad  \\\n",
       "0   Dizel  Dizel   Dizel            Benzin               Benzin   \n",
       "1   Dizel  Dizel   Dizel             Dizel                Dizel   \n",
       "2   Dizel  Dizel  Benzin             Dizel               Benzin   \n",
       "3   Dizel  Dizel   Dizel             Dizel               Benzin   \n",
       "4   Dizel  Dizel  Benzin             Dizel                Dizel   \n",
       "\n",
       "  Sarajevo - Novo Sarajevo Sarajevo - Stari Grad  \n",
       "0                   Benzin                 Dizel  \n",
       "1                    Dizel                 Dizel  \n",
       "2                    Dizel                  Plin  \n",
       "3                    Dizel                 Dizel  \n",
       "4                    Dizel                 Dizel  "
      ]
     },
     "execution_count": 13,
     "metadata": {},
     "output_type": "execute_result"
    }
   ],
   "source": [
    "dataset.head()"
   ]
  },
  {
   "cell_type": "code",
   "execution_count": 14,
   "metadata": {},
   "outputs": [
    {
     "name": "stdout",
     "output_type": "stream",
     "text": [
      "<class 'pandas.core.frame.DataFrame'>\n",
      "RangeIndex: 150 entries, 0 to 149\n",
      "Data columns (total 7 columns):\n",
      "Hadzici                     149 non-null object\n",
      "Ilidza                      150 non-null object\n",
      "Ilijas                      150 non-null object\n",
      "Sarajevo - Centar           149 non-null object\n",
      "Sarajevo - Novi Grad        150 non-null object\n",
      "Sarajevo - Novo Sarajevo    150 non-null object\n",
      "Sarajevo - Stari Grad       146 non-null object\n",
      "dtypes: object(7)\n",
      "memory usage: 8.3+ KB\n"
     ]
    }
   ],
   "source": [
    "dataset.info()"
   ]
  },
  {
   "cell_type": "code",
   "execution_count": 15,
   "metadata": {
    "scrolled": false
   },
   "outputs": [],
   "source": [
    "dataset.dropna(inplace = True)"
   ]
  },
  {
   "cell_type": "code",
   "execution_count": 16,
   "metadata": {},
   "outputs": [
    {
     "name": "stdout",
     "output_type": "stream",
     "text": [
      "<class 'pandas.core.frame.DataFrame'>\n",
      "Int64Index: 146 entries, 0 to 145\n",
      "Data columns (total 7 columns):\n",
      "Hadzici                     146 non-null object\n",
      "Ilidza                      146 non-null object\n",
      "Ilijas                      146 non-null object\n",
      "Sarajevo - Centar           146 non-null object\n",
      "Sarajevo - Novi Grad        146 non-null object\n",
      "Sarajevo - Novo Sarajevo    146 non-null object\n",
      "Sarajevo - Stari Grad       146 non-null object\n",
      "dtypes: object(7)\n",
      "memory usage: 9.1+ KB\n"
     ]
    }
   ],
   "source": [
    "dataset.info()"
   ]
  },
  {
   "cell_type": "code",
   "execution_count": 17,
   "metadata": {},
   "outputs": [
    {
     "data": {
      "text/plain": [
       "Dizel     106\n",
       "Benzin     32\n",
       "Plin        8\n",
       "Name: Sarajevo - Stari Grad, dtype: int64"
      ]
     },
     "execution_count": 17,
     "metadata": {},
     "output_type": "execute_result"
    }
   ],
   "source": [
    "dataset[\"Sarajevo - Stari Grad\"].value_counts()[:]"
   ]
  },
  {
   "cell_type": "code",
   "execution_count": 18,
   "metadata": {},
   "outputs": [],
   "source": [
    "df = pd.DataFrame({\n",
    "    \"Hadzici\":dataset[\"Hadzici\"].value_counts()[:], \n",
    "    \"Ilidza\":dataset[\"Ilidza\"].value_counts()[:], \n",
    "    \"Ilijas\":dataset[\"Ilijas\"].value_counts()[:], \n",
    "    \"Sarajevo - Centar\": dataset[\"Sarajevo - Centar\"].value_counts()[:],\n",
    "    \"Sarajevo - Novi Grad\": dataset[\"Sarajevo - Novi Grad\"].value_counts()[:], \n",
    "    \"Sarajevo - Novo Sarajevo\": dataset[\"Sarajevo - Novo Sarajevo\"].value_counts()[:],\n",
    "    \"Sarajevo - Stari Grad\": dataset[\"Sarajevo - Stari Grad\"].value_counts()[:]\n",
    "})"
   ]
  },
  {
   "cell_type": "code",
   "execution_count": 19,
   "metadata": {
    "scrolled": true
   },
   "outputs": [
    {
     "data": {
      "text/html": [
       "<div>\n",
       "<style scoped>\n",
       "    .dataframe tbody tr th:only-of-type {\n",
       "        vertical-align: middle;\n",
       "    }\n",
       "\n",
       "    .dataframe tbody tr th {\n",
       "        vertical-align: top;\n",
       "    }\n",
       "\n",
       "    .dataframe thead th {\n",
       "        text-align: right;\n",
       "    }\n",
       "</style>\n",
       "<table border=\"1\" class=\"dataframe\">\n",
       "  <thead>\n",
       "    <tr style=\"text-align: right;\">\n",
       "      <th></th>\n",
       "      <th>Hadzici</th>\n",
       "      <th>Ilidza</th>\n",
       "      <th>Ilijas</th>\n",
       "      <th>Sarajevo - Centar</th>\n",
       "      <th>Sarajevo - Novi Grad</th>\n",
       "      <th>Sarajevo - Novo Sarajevo</th>\n",
       "      <th>Sarajevo - Stari Grad</th>\n",
       "    </tr>\n",
       "  </thead>\n",
       "  <tbody>\n",
       "    <tr>\n",
       "      <th>Dizel</th>\n",
       "      <td>114</td>\n",
       "      <td>130</td>\n",
       "      <td>115</td>\n",
       "      <td>101</td>\n",
       "      <td>127</td>\n",
       "      <td>112</td>\n",
       "      <td>106</td>\n",
       "    </tr>\n",
       "    <tr>\n",
       "      <th>Benzin</th>\n",
       "      <td>25</td>\n",
       "      <td>15</td>\n",
       "      <td>25</td>\n",
       "      <td>40</td>\n",
       "      <td>17</td>\n",
       "      <td>29</td>\n",
       "      <td>32</td>\n",
       "    </tr>\n",
       "    <tr>\n",
       "      <th>Plin</th>\n",
       "      <td>7</td>\n",
       "      <td>1</td>\n",
       "      <td>6</td>\n",
       "      <td>5</td>\n",
       "      <td>2</td>\n",
       "      <td>5</td>\n",
       "      <td>8</td>\n",
       "    </tr>\n",
       "  </tbody>\n",
       "</table>\n",
       "</div>"
      ],
      "text/plain": [
       "        Hadzici  Ilidza  Ilijas  Sarajevo - Centar  Sarajevo - Novi Grad  \\\n",
       "Dizel       114     130     115                101                   127   \n",
       "Benzin       25      15      25                 40                    17   \n",
       "Plin          7       1       6                  5                     2   \n",
       "\n",
       "        Sarajevo - Novo Sarajevo  Sarajevo - Stari Grad  \n",
       "Dizel                        112                    106  \n",
       "Benzin                        29                     32  \n",
       "Plin                           5                      8  "
      ]
     },
     "execution_count": 19,
     "metadata": {},
     "output_type": "execute_result"
    }
   ],
   "source": [
    "df = df.sort_values(by = [\"Hadzici\"], ascending = False)\n",
    "df.head()"
   ]
  },
  {
   "cell_type": "code",
   "execution_count": 22,
   "metadata": {},
   "outputs": [],
   "source": [
    "df.index = [\"Diesel\", \"Gasoline\", \"Gas\"]"
   ]
  },
  {
   "cell_type": "code",
   "execution_count": 24,
   "metadata": {},
   "outputs": [
    {
     "data": {
      "image/png": "[encoded data removed]",
      "text/plain": [
       "<Figure size 432x288 with 1 Axes>"
      ]
     },
     "metadata": {
      "needs_background": "light"
     },
     "output_type": "display_data"
    }
   ],
   "source": [
    "import matplotlib.pyplot as plt\n",
    "\n",
    "\n",
    "df.plot.bar(rot = 0, title = \"What kind of fuel do cars in Sarajevo run on?\")\n",
    "plt.savefig('WhatSarajevoDrives.png')\n",
    "plt.show()"
   ]
  },
  {
   "cell_type": "code",
   "execution_count": null,
   "metadata": {},
   "outputs": [],
   "source": []
  }
 ],
 "metadata": {
  "kernelspec": {
   "display_name": "Python 3",
   "language": "python",
   "name": "python3"
  },
  "language_info": {
   "codemirror_mode": {
    "name": "ipython",
    "version": 3
   },
   "file_extension": ".py",
   "mimetype": "text/x-python",
   "name": "python",
   "nbconvert_exporter": "python",
   "pygments_lexer": "ipython3",
   "version": "3.7.4"
  }
 },
 "nbformat": 4,
 "nbformat_minor": 2
}
